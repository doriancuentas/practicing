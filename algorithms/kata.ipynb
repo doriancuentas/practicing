{
 "metadata": {
  "language_info": {
   "codemirror_mode": {
    "name": "ipython",
    "version": 3
   },
   "file_extension": ".py",
   "mimetype": "text/x-python",
   "name": "python",
   "nbconvert_exporter": "python",
   "pygments_lexer": "ipython3",
   "version": "3.9.4"
  },
  "orig_nbformat": 2,
  "kernelspec": {
   "name": "python394jvsc74a57bd0e20d740cc14b0154111b26b75948b1542e9a3a5677e522ebeea7f03804cd26b6",
   "display_name": "Python 3.9.4 64-bit ('3.9.4': pyenv)"
  }
 },
 "nbformat": 4,
 "nbformat_minor": 2,
 "cells": [
  {
   "cell_type": "code",
   "execution_count": 4,
   "metadata": {},
   "outputs": [
    {
     "output_type": "stream",
     "name": "stdout",
     "text": [
      "False\nTrue\nTrue\nTrue\nTrue\n"
     ]
    }
   ],
   "source": [
    "def line_crossing_area(rectangle, line):\n",
    "    r_x, r_y, r_width, r_height = rectangle\n",
    "    rectangle_y_min = r_y - (r_height/2)\n",
    "    rectangle_y_max = r_y + (r_height/2)\n",
    "\n",
    "    rectangle_x_left = r_x - (r_width/2)\n",
    "    rectangle_x_right = r_x + (r_width/2)\n",
    "    \n",
    "    p0_x, p0_y = line[0]\n",
    "    p1_x, p1_y = line[1]\n",
    "        \n",
    "    py_diff = p1_y-p0_y\n",
    "    px_diff = p1_x-p0_x\n",
    "    if px_diff != 0:\n",
    "        m = (py_diff)/(px_diff)\n",
    "        b = p1_y - m*p1_x\n",
    "        linear_eq = lambda x : m*x + b\n",
    "        line_is_crossing = lambda x : rectangle_y_min < linear_eq(x) < rectangle_y_max\n",
    "        return line_is_crossing(rectangle_x_left) or line_is_crossing(rectangle_x_right)\n",
    "    else:\n",
    "        x_intersects = rectangle_x_left < p1_x < rectangle_x_right\n",
    "        p_y1=min(p1_y,p0_y)\n",
    "        p_y2=max(p1_y,p0_y)\n",
    "        y_intersects = lambda i : rectangle_y_min < i < rectangle_y_max\n",
    "        return x_intersects and (y_intersects(p_y1) or y_intersects(p_y2))\n",
    "        \n",
    "    \n",
    "print(line_crossing_area((0, 0, 10, 10), ((-3, -4), (5, 6))) == True)\n",
    "print(line_crossing_area((-10, 20, 30, 40), ((-100, 100), (10, -10))) == True)\n",
    "print(line_crossing_area((100, 100, 10, 20), ((-100, -100), (-101, 10))) == False)\n",
    "print(line_crossing_area((0, 100, 200, 10), ((-500, -500), (-400, -40))) == False)\n",
    "print(line_crossing_area((0, 100, 200, 10), ((-50, 50), (25, 25))) == False)\n",
    "\n",
    "\n",
    "# Line Crossing Area\n",
    "# \n",
    "# In this Kata you should write a function that checks if a line is crossing or inside a rectangular area. The # line is created by the (x,y) coordinates of two given points (p0,p1) and the rectangle (r) is created by the (x,# y) coordinates of its center and width and height values. The function should return True if the line # instersects the area and False otherwise.\n",
    "# \n",
    "# asdf\n",
    "# \n",
    "# The input is given by 2 parameters, parameter rectangle which is passed as a tuple in the format (r_x, r_y, # r_width, r_height). And the parameter line which is passed as a tuple of tuples in the format ((p0_x, p0_y),# (p1_x, p1_y)), the first tuple contains the (x,y) coordinates for point 0 (p0) and the second tuple contains the # (x,y) coordinates for point 1 (p1).\n",
    "# Note\n",
    "# \n",
    "# All passed parameters are valid, there is no need to check them.\n",
    "\n"
   ]
  }
 ]
}