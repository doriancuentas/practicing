{
 "metadata": {
  "language_info": {
   "codemirror_mode": {
    "name": "ipython",
    "version": 3
   },
   "file_extension": ".py",
   "mimetype": "text/x-python",
   "name": "python",
   "nbconvert_exporter": "python",
   "pygments_lexer": "ipython3",
   "version": "3.9.4"
  },
  "orig_nbformat": 2,
  "kernelspec": {
   "name": "python394jvsc74a57bd0e20d740cc14b0154111b26b75948b1542e9a3a5677e522ebeea7f03804cd26b6",
   "display_name": "Python 3.9.4 64-bit ('3.9.4': pyenv)"
  }
 },
 "nbformat": 4,
 "nbformat_minor": 2,
 "cells": [
  {
   "cell_type": "code",
   "execution_count": 9,
   "metadata": {},
   "outputs": [
    {
     "output_type": "stream",
     "name": "stdout",
     "text": [
      "iterations : 9\n[1, 2, 3, 4, 5, 6, 7, 8, 9]\n\n\niterations : 45\n[1, 2, 3, 4, 5, 6, 7, 8, 9]\n"
     ]
    }
   ],
   "source": [
    "def insertion_sort(arr):\n",
    "    it = 0\n",
    "    for i in range(len(arr)):\n",
    "        value = arr[i]\n",
    "        while i>0 and value < arr[i-1]:\n",
    "            arr[i] = arr[i-1]\n",
    "            i -= 1\n",
    "            # print (arr)\n",
    "            it += 1\n",
    "        arr[i] = value\n",
    "        it += 1\n",
    "        #print(arr)\n",
    "    print(f\"iterations : {it}\")\n",
    "    return arr\n",
    "\n",
    "print(insertion_sort([1,2,3,4,5,6,7,8,9]))\n",
    "print(\"\\n\")\n",
    "print(insertion_sort([9,8,7,6,5,4,3,2,1]))\n",
    "# from random import randint\n",
    "# for i in range(10):\n",
    "#     target_array = [ randint(0,100) for i in range(25) ]\n",
    "#     print(f\"unsorted array \\t: {target_array}\")\n",
    "#     print(f\"sorted array \\t: {insertion_sort(target_array)}\\n\")"
   ]
  },
  {
   "cell_type": "code",
   "execution_count": 25,
   "metadata": {},
   "outputs": [
    {
     "output_type": "stream",
     "name": "stdout",
     "text": [
      "[1, 2, 3, 4, 5, 6, 7, 8, 9]\n\n\n[1, 2, 3, 4, 5, 6, 7, 8, 9]\n"
     ]
    }
   ],
   "source": [
    "def insertion_sort2(a):\n",
    "    for i in range(len(a)):\n",
    "        while i-1>=0 and a[i] < a[i-1]:\n",
    "            a[i], a[i-1] = a[i-1], a[i]\n",
    "            i-=1\n",
    "    return a\n",
    "        \n",
    "print(insertion_sort2([1,2,3,4,5,6,7,8,9]))\n",
    "print(\"\\n\")\n",
    "print(insertion_sort2([9,8,7,6,5,4,3,2,1]))   \n",
    "\n",
    "from random import randint\n",
    "\n",
    "for i in range(100):\n",
    "    a = [randint(0,20) for j in range(100)]\n",
    "    sort_a = sorted(a.copy())\n",
    "    b = insertion_sort2(a.copy())\n",
    "    if b != sort_a:\n",
    "        print(\"Error : \")\n",
    "        print(a)\n",
    "        print(b)\n",
    "        print(sort_a)\n",
    "\n"
   ]
  },
  {
   "cell_type": "code",
   "execution_count": 18,
   "metadata": {},
   "outputs": [
    {
     "output_type": "stream",
     "name": "stdout",
     "text": [
      "iterations : 45\n[1, 2, 3, 4, 5, 6, 7, 8, 9]\n\n\niterations : 45\n[1, 2, 3, 4, 5, 6, 7, 8, 9]\n"
     ]
    }
   ],
   "source": [
    "def selection_sort(arr):\n",
    "    it = 0\n",
    "    max_pos = len(arr) - 1\n",
    "    while max_pos >= 0:\n",
    "        current_max = 0\n",
    "        current_item = arr[max_pos]\n",
    "        for i in range(max_pos+1):\n",
    "            if arr[i] > current_max:\n",
    "                current_max = arr[i]\n",
    "                current_index = i\n",
    "            it += 1\n",
    "        arr[max_pos] = current_max\n",
    "        arr[current_index] = current_item\n",
    "        max_pos -= 1\n",
    "    print(f\"iterations : {it}\")\n",
    "    return arr\n",
    "\n",
    "print(selection_sort([1,2,3,4,5,6,7,8,9]))\n",
    "print(\"\\n\")\n",
    "print(selection_sort([9,8,7,6,5,4,3,2,1]))"
   ]
  },
  {
   "cell_type": "code",
   "execution_count": null,
   "metadata": {},
   "outputs": [],
   "source": []
  }
 ]
}